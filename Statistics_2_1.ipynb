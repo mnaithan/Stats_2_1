{
 "cells": [
  {
   "cell_type": "markdown",
   "metadata": {},
   "source": [
    "probability of sucess, p = 0.75 ( getting answer wrong 4/3)\n",
    "probabily of faliure, q = 0.25 ( getting answer right 1/4)\n",
    "Number of attempts, N = 20\n",
    "Its an binomial probability distribution, hence \n",
    "Probability that a person undertaking test has answered exactly 5 questions wrong :  \n",
    "C(N,5) * p^5 * q^(20-5)\n",
    "=> C(20,5) * (0.75)^5 * (0.25)^15\n",
    "+> 0.00000342649\n",
    "\n"
   ]
  }
 ],
 "metadata": {
  "kernelspec": {
   "display_name": "Python 3",
   "language": "python",
   "name": "python3"
  },
  "language_info": {
   "codemirror_mode": {
    "name": "ipython",
    "version": 3
   },
   "file_extension": ".py",
   "mimetype": "text/x-python",
   "name": "python",
   "nbconvert_exporter": "python",
   "pygments_lexer": "ipython3",
   "version": "3.6.4"
  }
 },
 "nbformat": 4,
 "nbformat_minor": 2
}
